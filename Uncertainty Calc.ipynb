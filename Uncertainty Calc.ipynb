{
 "cells": [
  {
   "cell_type": "code",
   "id": "initial_id",
   "metadata": {
    "collapsed": true,
    "ExecuteTime": {
     "end_time": "2024-11-05T18:22:10.790183Z",
     "start_time": "2024-11-05T18:22:10.787167Z"
    }
   },
   "source": [
    "from math import gamma\n",
    "\n",
    "import numpy as np\n",
    "import math\n",
    "import matplotlib.pyplot as plt\n",
    "import sympy as sp"
   ],
   "outputs": [],
   "execution_count": 102
  },
  {
   "metadata": {
    "ExecuteTime": {
     "end_time": "2024-11-05T18:22:10.801627Z",
     "start_time": "2024-11-05T18:22:10.798220Z"
    }
   },
   "cell_type": "code",
   "source": [
    "print(1.0073-0.906569406021549)\n",
    "print(1.10802927402634-1.0073)\n",
    "\n"
   ],
   "id": "c1e5e8d3de113019",
   "outputs": [
    {
     "name": "stdout",
     "output_type": "stream",
     "text": [
      "0.10073059397845108\n",
      "0.10072927402633991\n"
     ]
    }
   ],
   "execution_count": 103
  },
  {
   "metadata": {
    "ExecuteTime": {
     "end_time": "2024-11-05T18:22:11.121541Z",
     "start_time": "2024-11-05T18:22:10.810690Z"
    }
   },
   "cell_type": "code",
   "source": [
    "solution3 = sp.solve(-0.75 + Cd * A * sp.sqrt(2*rho_ox*P),P)\n",
    "print(solution3)\n",
    "print(5.4e5 - solution3[0])\n"
   ],
   "id": "298e57624049f296",
   "outputs": [
    {
     "name": "stdout",
     "output_type": "stream",
     "text": [
      "[425606.719718490]\n",
      "114393.280281510\n"
     ]
    }
   ],
   "execution_count": 104
  },
  {
   "metadata": {
    "ExecuteTime": {
     "end_time": "2024-11-05T18:22:11.142130Z",
     "start_time": "2024-11-05T18:22:11.139786Z"
    }
   },
   "cell_type": "code",
   "source": "",
   "id": "a310825df1421f3b",
   "outputs": [],
   "execution_count": null
  },
  {
   "metadata": {
    "ExecuteTime": {
     "end_time": "2024-11-05T18:22:11.842646Z",
     "start_time": "2024-11-05T18:22:11.150727Z"
    }
   },
   "cell_type": "code",
   "source": [
    "m_dot, P = sp.symbols(\"m_dot, P\")\n",
    "\n",
    "ve = 3145.7598\n",
    "Ae = 0.1527\n",
    "\n",
    "Me = 4.380\n",
    "gamma_c = 1.1173\n",
    "gamma_e = 1.213\n",
    "#gamma_avg = (gamma_c + gamma_e)/2\n",
    "gamma_avg = 1.1414\n",
    "Te = 1286.42\n",
    "F = 3304.6615\n",
    "c_star = 1605\n",
    "At = 1796.285e-6\n",
    "\n",
    "\n",
    "\n",
    "m_dot_ox_norm = 0.8448\n",
    "m_dot_prop_norm = 1.0073\n",
    "\n",
    "Cd = 0.8\n",
    "rho_ox = 1573.2\n",
    "A = m_dot_ox_norm/Cd/math.sqrt(2*rho_ox*5.4e5)\n",
    "rho_f = 1522\n",
    "Dpi = 95.6473e-3\n",
    "L = 515.9178e-3\n",
    "\n",
    "Thrust_Percent = 0.90\n",
    "\n",
    "count = 0\n",
    "while True:\n",
    "    if count == 0:\n",
    "        r = 6.35e-05*(m_dot_ox_norm/(math.pi/4*Dpi**2))**0.5\n",
    "        m_dot_f = rho_f*math.pi*Dpi*L*r\n",
    "        m_dot_f_norm = m_dot_f\n",
    "        OF = m_dot_ox_norm/m_dot_f\n",
    "        Pe = (1+(gamma_avg-1)/2*Me**2)**(-gamma_avg/(gamma_avg-1))*m_dot*(-2.97619*OF**2 + 10.05952*OF + 1633.18571)/At\n",
    "        m_dot_prop_update = sp.nsolve(-Thrust_Percent*F + m_dot * ve + Pe * Ae, m_dot, 1.0)\n",
    "        m_dot_ox_new = abs(m_dot_prop_update - m_dot_f)\n",
    "        m_dot_ox_old = m_dot_ox_norm\n",
    "        m_dot_f_old = m_dot_f\n",
    "        Pe_norm = Pe.subs(m_dot, m_dot_prop_update)\n",
    "        count += 1\n",
    "        continue\n",
    "        \n",
    "    r = 6.35e-05*(m_dot_ox_new/(math.pi/4*Dpi**2))**0.5\n",
    "    m_dot_f = rho_f*math.pi*Dpi*L*r\n",
    "    #m_dot_prop_new = m_dot_ox_new + m_dot_f\n",
    "    OF = m_dot_ox_new/m_dot_f\n",
    "    Pe = (1+(gamma_avg-1)/2*Me**2)**(-gamma_avg/(gamma_avg-1))*m_dot*(-2.97619*OF**2 + 10.05952*OF + 1633.18571)/At\n",
    "    m_dot_prop_update = sp.nsolve(-Thrust_Percent*F + m_dot * ve + Pe * Ae, m_dot, 1.0)\n",
    "    m_dot_ox_new = abs(m_dot_prop_update - m_dot_f)\n",
    "    \n",
    "    if count != 0 and round(abs(m_dot_f - m_dot_f_old),5) == 0 and round(abs(m_dot_ox_new - m_dot_ox_old),5) == 0 and round(abs(m_dot_ox_new + m_dot_f - m_dot_prop_update),5) == 0:\n",
    "        break\n",
    "    \n",
    "    #if count != 0 and round(m_dot_f - m_dot_f_old,10) != 0 and round(m_dot_ox_new - m_dot_ox_old,10) != 0 and round(m_dot_ox_new + m_dot_f - m_dot_prop_update[0],10) != 0:\n",
    "    else:\n",
    "        m_dot_ox_old = m_dot_ox_new\n",
    "        m_dot_f_old = m_dot_f\n",
    "        count += 1\n",
    "    \n",
    "#print(round(m_dot_ox_new + m_dot_f - m_dot_prop_update[0],10))\n",
    "print(count)   \n",
    "print(f\"Oxidizer Mass Flow Rate = {m_dot_ox_new:.6f} kg/s\")\n",
    "print(f\"Fuel Mass Flow Rate Norm = {m_dot_f_norm:.6f} kg/s\")\n",
    "print(f\"Fuel Mass Flow Rate Now = {m_dot_f:.6f} kg/s\")\n",
    "print(f\"Propellant Mass Flow Rate = {m_dot_prop_update:.6f} kg/s\")\n",
    "print(f\"Propellant Mass Flow Uncertainty = {abs(m_dot_prop_norm - m_dot_prop_update):.12f} kg/s\")\n",
    "print(f\"Current O/F = {OF}\")\n",
    "print(f\"{Thrust_Percent*100:.0f}% Thrust = {Thrust_Percent*F:.4f}\")\n",
    "print(f\"Current C* = {-2.97619*OF**2 + 10.05952*OF + 1633.18571:.4f}\")\n",
    "Pe = (1+(gamma_avg-1)/2*Me**2)**(-gamma_avg/(gamma_avg-1))*m_dot_prop_update*(-2.97619*OF**2 + 10.05952*OF + 1633.18571)/At\n",
    "print(f\"Calculated Thrust = {m_dot_prop_update * ve + Pe * Ae:.4f}\")\n",
    "m_dot_ox_change = abs(m_dot_ox_norm - m_dot_ox_new)\n",
    "print(f\"Oxidizer Mass Flow Rate Uncertainty = {m_dot_ox_change:.12f} kg/s\")\n",
    "pressure_new = sp.solve(-m_dot_ox_new + Cd * A * sp.sqrt(2*rho_ox*P),P)\n",
    "print(f\"Pressure drop in injector = {pressure_new[0]:.2f} Pa\")\n",
    "print(f\"Pressure Rise Uncertainty = {abs(5.4e5 - pressure_new[0])/1e5:.2f} Bar\")\n",
    "print(A)\n",
    "print(f\"Nominal Pe = {Pe_norm}\")\n",
    "print(f\"Pe Now = {Pe.subs(m_dot, m_dot_prop_update)}\")"
   ],
   "id": "6b38a562ee8178c0",
   "outputs": [
    {
     "name": "stdout",
     "output_type": "stream",
     "text": [
      "16\n",
      "Oxidizer Mass Flow Rate = 0.753048 kg/s\n",
      "Fuel Mass Flow Rate Norm = 0.162462 kg/s\n",
      "Fuel Mass Flow Rate Now = 0.153386 kg/s\n",
      "Propellant Mass Flow Rate = 0.906434 kg/s\n",
      "Propellant Mass Flow Uncertainty = 0.100866201824 kg/s\n",
      "Current O/F = 4.90950275312746\n",
      "90% Thrust = 2974.1954\n",
      "Current C* = 1610.8372\n",
      "Calculated Thrust = 2974.1954\n",
      "Oxidizer Mass Flow Rate Uncertainty = 0.091752000265 kg/s\n",
      "Pressure drop in injector = 429073.08 Pa\n",
      "Pressure Rise Uncertainty = 1.11 Bar\n",
      "2.5618875997134522e-05\n",
      "Nominal Pe = 801.225618399345\n",
      "Pe Now = 804.010126637477\n"
     ]
    }
   ],
   "execution_count": 105
  }
 ],
 "metadata": {
  "kernelspec": {
   "display_name": "Python 3",
   "language": "python",
   "name": "python3"
  },
  "language_info": {
   "codemirror_mode": {
    "name": "ipython",
    "version": 2
   },
   "file_extension": ".py",
   "mimetype": "text/x-python",
   "name": "python",
   "nbconvert_exporter": "python",
   "pygments_lexer": "ipython2",
   "version": "2.7.6"
  }
 },
 "nbformat": 4,
 "nbformat_minor": 5
}
