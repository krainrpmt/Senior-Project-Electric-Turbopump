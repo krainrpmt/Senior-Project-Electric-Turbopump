{
 "cells": [
  {
   "cell_type": "code",
   "id": "initial_id",
   "metadata": {
    "collapsed": true,
    "ExecuteTime": {
     "end_time": "2024-11-05T17:18:31.720160Z",
     "start_time": "2024-11-05T17:18:31.717349Z"
    }
   },
   "source": [
    "from math import gamma\n",
    "\n",
    "import numpy as np\n",
    "import math\n",
    "import matplotlib.pyplot as plt\n",
    "import sympy as sp"
   ],
   "outputs": [],
   "execution_count": 6
  },
  {
   "metadata": {
    "ExecuteTime": {
     "end_time": "2024-11-05T17:18:31.727231Z",
     "start_time": "2024-11-05T17:18:31.724162Z"
    }
   },
   "cell_type": "code",
   "source": [
    "print(1.0073-0.906569406021549)\n",
    "print(1.10802927402634-1.0073)\n",
    "\n"
   ],
   "id": "c1e5e8d3de113019",
   "outputs": [
    {
     "name": "stdout",
     "output_type": "stream",
     "text": [
      "0.10073059397845108\n",
      "0.10072927402633991\n"
     ]
    }
   ],
   "execution_count": 7
  },
  {
   "metadata": {
    "ExecuteTime": {
     "end_time": "2024-11-05T17:18:32.309229Z",
     "start_time": "2024-11-05T17:18:31.735455Z"
    }
   },
   "cell_type": "code",
   "source": [
    "solution3 = sp.solve(-0.75 + Cd * A * sp.sqrt(2*rho_ox*P),P)\n",
    "print(solution3)\n",
    "print(5.4e5 - solution3[0])\n"
   ],
   "id": "298e57624049f296",
   "outputs": [
    {
     "name": "stdout",
     "output_type": "stream",
     "text": [
      "[425606.719718490]\n",
      "114393.280281510\n"
     ]
    }
   ],
   "execution_count": 8
  },
  {
   "metadata": {
    "ExecuteTime": {
     "end_time": "2024-11-05T17:18:32.318306Z",
     "start_time": "2024-11-05T17:18:32.316387Z"
    }
   },
   "cell_type": "code",
   "source": "",
   "id": "a310825df1421f3b",
   "outputs": [],
   "execution_count": null
  },
  {
   "metadata": {
    "ExecuteTime": {
     "end_time": "2024-11-05T17:18:36.782548Z",
     "start_time": "2024-11-05T17:18:32.325995Z"
    }
   },
   "cell_type": "code",
   "source": [
    "m_dot, P = sp.symbols(\"m_dot, P\")\n",
    "\n",
    "ve = 3145.7598\n",
    "Ae = 0.1527\n",
    "\n",
    "Me = 4.380\n",
    "gamma_c = 1.1173\n",
    "gamma_e = 1.213\n",
    "#gamma_avg = (gamma_c + gamma_e)/2\n",
    "gamma_avg = 1.1414\n",
    "Te = 1286.42\n",
    "F = 3304.6615\n",
    "c_star = 1605\n",
    "At = 1796.285e-6\n",
    "\n",
    "\n",
    "\n",
    "m_dot_ox_norm = 0.8448\n",
    "m_dot_prop_norm = 1.0073\n",
    "\n",
    "Cd = 0.8\n",
    "rho_ox = 1573.2\n",
    "A = m_dot_ox_norm/Cd/math.sqrt(2*rho_ox*5.4e5)\n",
    "rho_f = 1522\n",
    "Dpi = 95.6473e-3\n",
    "L = 515.9178e-3\n",
    "\n",
    "Thrust_Percent = 1.1\n",
    "\n",
    "count = 0\n",
    "while True:\n",
    "    if count == 0:\n",
    "        r = 6.35e-05*(m_dot_ox_norm/(math.pi/4*Dpi**2))**0.5\n",
    "        m_dot_f = rho_f*math.pi*Dpi*L*r\n",
    "        m_dot_f_norm = m_dot_f\n",
    "        OF = m_dot_ox_norm/m_dot_f\n",
    "        Pe = (1+(gamma_avg-1)/2*Me**2)**(-gamma_avg/(gamma_avg-1))*m_dot*(-2.97619*OF**2 + 10.05952*OF + 1633.18571)/At\n",
    "        m_dot_prop_update = sp.solve(-Thrust_Percent*F + m_dot * ve + Pe * Ae, 'm_dot')\n",
    "        m_dot_ox_new = abs(m_dot_ox_norm - abs(m_dot_prop_norm - m_dot_prop_update[0]))\n",
    "        m_dot_ox_old = m_dot_ox_norm\n",
    "        m_dot_f_old = m_dot_f\n",
    "        Pe_norm = Pe.subs(m_dot, m_dot_prop_update[0])\n",
    "        count += 1\n",
    "        continue\n",
    "        \n",
    "    r = 6.35e-05*(m_dot_ox_new/(math.pi/4*Dpi**2))**0.5\n",
    "    m_dot_f = rho_f*math.pi*Dpi*L*r\n",
    "    #m_dot_prop_new = m_dot_ox_new + m_dot_f\n",
    "    OF = m_dot_ox_new/m_dot_f\n",
    "    Pe = (1+(gamma_avg-1)/2*Me**2)**(-gamma_avg/(gamma_avg-1))*m_dot*(-2.97619*OF**2 + 10.05952*OF + 1633.18571)/At\n",
    "    m_dot_prop_update = sp.solve(-Thrust_Percent*F + m_dot * ve + Pe * Ae, 'm_dot')\n",
    "    m_dot_ox_new = abs(m_dot_prop_update[0] - m_dot_f)\n",
    "    \n",
    "    if count != 0 and round(abs(m_dot_f - m_dot_f_old),5) == 0 and round(abs(m_dot_ox_new - m_dot_ox_old),5) == 0 and round(abs(m_dot_ox_new + m_dot_f - m_dot_prop_update[0]),5) == 0:\n",
    "        break\n",
    "    \n",
    "    #if count != 0 and round(m_dot_f - m_dot_f_old,10) != 0 and round(m_dot_ox_new - m_dot_ox_old,10) != 0 and round(m_dot_ox_new + m_dot_f - m_dot_prop_update[0],10) != 0:\n",
    "    else:\n",
    "        m_dot_ox_old = m_dot_ox_new\n",
    "        m_dot_f_old = m_dot_f\n",
    "        count += 1\n",
    "    \n",
    "#print(round(m_dot_ox_new + m_dot_f - m_dot_prop_update[0],10))\n",
    "print(count)   \n",
    "print(f\"Oxidizer Mass Flow Rate = {m_dot_ox_new:.6f} kg/s\")\n",
    "print(f\"Fuel Mass Flow Rate Norm = {m_dot_f_norm:.6f} kg/s\")\n",
    "print(f\"Fuel Mass Flow Rate Now = {m_dot_f:.6f} kg/s\")\n",
    "print(f\"Propellant Mass Flow Rate = {m_dot_prop_update[0]:.6f} kg/s\")\n",
    "print(f\"Propellant Mass Flow Uncertainty = {m_dot_prop_norm - m_dot_prop_update[0]:.12f} kg/s\")\n",
    "print(f\"Current O/F = {OF}\")\n",
    "print(f\"{Thrust_Percent*100:.0f}% Thrust = {Thrust_Percent*F:.4f}\")\n",
    "print(f\"Current C* = {-2.97619*OF**2 + 10.05952*OF + 1633.18571:.4f}\")\n",
    "Pe = (1+(gamma_avg-1)/2*Me**2)**(-gamma_avg/(gamma_avg-1))*m_dot_prop_update[0]*(-2.97619*OF**2 + 10.05952*OF + 1633.18571)/At\n",
    "print(f\"Calculated Thrust = {m_dot_prop_update[0] * ve + Pe * Ae:.4f}\")\n",
    "m_dot_ox_change = m_dot_ox_norm - m_dot_ox_new\n",
    "print(f\"Oxidizer Mass Flow Rate Uncertainty = {m_dot_ox_change:.12f} kg/s\")\n",
    "pressure_new = sp.solve(-m_dot_ox_new + Cd * A * sp.sqrt(2*rho_ox*P),P)\n",
    "print(f\"Pressure drop in injector = {pressure_new[0]:.2f} Pa\")\n",
    "print(f\"Pressure Rise Uncertainty = {(5.4e5 - pressure_new[0])/1e5:.2f} Bar\")\n",
    "print(A)\n",
    "print(f\"Nominal Pe = {Pe_norm}\")\n",
    "print(f\"Pe Now = {Pe.subs(m_dot, m_dot_prop_update[0])}\")"
   ],
   "id": "6b38a562ee8178c0",
   "outputs": [
    {
     "ename": "KeyboardInterrupt",
     "evalue": "",
     "output_type": "error",
     "traceback": [
      "\u001B[1;31m---------------------------------------------------------------------------\u001B[0m",
      "\u001B[1;31mKeyboardInterrupt\u001B[0m                         Traceback (most recent call last)",
      "Cell \u001B[1;32mIn[9], line 51\u001B[0m\n\u001B[0;32m     49\u001B[0m OF \u001B[38;5;241m=\u001B[39m m_dot_ox_new\u001B[38;5;241m/\u001B[39mm_dot_f\n\u001B[0;32m     50\u001B[0m Pe \u001B[38;5;241m=\u001B[39m (\u001B[38;5;241m1\u001B[39m\u001B[38;5;241m+\u001B[39m(gamma_avg\u001B[38;5;241m-\u001B[39m\u001B[38;5;241m1\u001B[39m)\u001B[38;5;241m/\u001B[39m\u001B[38;5;241m2\u001B[39m\u001B[38;5;241m*\u001B[39mMe\u001B[38;5;241m*\u001B[39m\u001B[38;5;241m*\u001B[39m\u001B[38;5;241m2\u001B[39m)\u001B[38;5;241m*\u001B[39m\u001B[38;5;241m*\u001B[39m(\u001B[38;5;241m-\u001B[39mgamma_avg\u001B[38;5;241m/\u001B[39m(gamma_avg\u001B[38;5;241m-\u001B[39m\u001B[38;5;241m1\u001B[39m))\u001B[38;5;241m*\u001B[39mm_dot\u001B[38;5;241m*\u001B[39m(\u001B[38;5;241m-\u001B[39m\u001B[38;5;241m2.97619\u001B[39m\u001B[38;5;241m*\u001B[39mOF\u001B[38;5;241m*\u001B[39m\u001B[38;5;241m*\u001B[39m\u001B[38;5;241m2\u001B[39m \u001B[38;5;241m+\u001B[39m \u001B[38;5;241m10.05952\u001B[39m\u001B[38;5;241m*\u001B[39mOF \u001B[38;5;241m+\u001B[39m \u001B[38;5;241m1633.18571\u001B[39m)\u001B[38;5;241m/\u001B[39mAt\n\u001B[1;32m---> 51\u001B[0m m_dot_prop_update \u001B[38;5;241m=\u001B[39m sp\u001B[38;5;241m.\u001B[39msolve(\u001B[38;5;241m-\u001B[39mThrust_Percent\u001B[38;5;241m*\u001B[39mF \u001B[38;5;241m+\u001B[39m m_dot \u001B[38;5;241m*\u001B[39m ve \u001B[38;5;241m+\u001B[39m Pe \u001B[38;5;241m*\u001B[39m Ae, \u001B[38;5;124m'\u001B[39m\u001B[38;5;124mm_dot\u001B[39m\u001B[38;5;124m'\u001B[39m)\n\u001B[0;32m     52\u001B[0m m_dot_ox_new \u001B[38;5;241m=\u001B[39m \u001B[38;5;28mabs\u001B[39m(m_dot_prop_update[\u001B[38;5;241m0\u001B[39m] \u001B[38;5;241m-\u001B[39m m_dot_f)\n\u001B[0;32m     54\u001B[0m \u001B[38;5;28;01mif\u001B[39;00m count \u001B[38;5;241m!=\u001B[39m \u001B[38;5;241m0\u001B[39m \u001B[38;5;129;01mand\u001B[39;00m \u001B[38;5;28mround\u001B[39m(\u001B[38;5;28mabs\u001B[39m(m_dot_f \u001B[38;5;241m-\u001B[39m m_dot_f_old),\u001B[38;5;241m5\u001B[39m) \u001B[38;5;241m==\u001B[39m \u001B[38;5;241m0\u001B[39m \u001B[38;5;129;01mand\u001B[39;00m \u001B[38;5;28mround\u001B[39m(\u001B[38;5;28mabs\u001B[39m(m_dot_ox_new \u001B[38;5;241m-\u001B[39m m_dot_ox_old),\u001B[38;5;241m5\u001B[39m) \u001B[38;5;241m==\u001B[39m \u001B[38;5;241m0\u001B[39m \u001B[38;5;129;01mand\u001B[39;00m \u001B[38;5;28mround\u001B[39m(\u001B[38;5;28mabs\u001B[39m(m_dot_ox_new \u001B[38;5;241m+\u001B[39m m_dot_f \u001B[38;5;241m-\u001B[39m m_dot_prop_update[\u001B[38;5;241m0\u001B[39m]),\u001B[38;5;241m5\u001B[39m) \u001B[38;5;241m==\u001B[39m \u001B[38;5;241m0\u001B[39m:\n",
      "File \u001B[1;32mD:\\anaconda3\\envs\\myenv\\Lib\\site-packages\\sympy\\solvers\\solvers.py:1121\u001B[0m, in \u001B[0;36msolve\u001B[1;34m(f, *symbols, **flags)\u001B[0m\n\u001B[0;32m   1119\u001B[0m         \u001B[38;5;28;01mif\u001B[39;00m fi\u001B[38;5;241m.\u001B[39mhas(Float):\n\u001B[0;32m   1120\u001B[0m             floats \u001B[38;5;241m=\u001B[39m \u001B[38;5;28;01mTrue\u001B[39;00m\n\u001B[1;32m-> 1121\u001B[0m             f[i] \u001B[38;5;241m=\u001B[39m nsimplify(fi, rational\u001B[38;5;241m=\u001B[39m\u001B[38;5;28;01mTrue\u001B[39;00m)\n\u001B[0;32m   1123\u001B[0m \u001B[38;5;66;03m# capture any denominators before rewriting since\u001B[39;00m\n\u001B[0;32m   1124\u001B[0m \u001B[38;5;66;03m# they may disappear after the rewrite, e.g. issue 14779\u001B[39;00m\n\u001B[0;32m   1125\u001B[0m flags[\u001B[38;5;124m'\u001B[39m\u001B[38;5;124m_denominators\u001B[39m\u001B[38;5;124m'\u001B[39m] \u001B[38;5;241m=\u001B[39m _simple_dens(f[\u001B[38;5;241m0\u001B[39m], symbols)\n",
      "File \u001B[1;32mD:\\anaconda3\\envs\\myenv\\Lib\\site-packages\\sympy\\simplify\\simplify.py:1446\u001B[0m, in \u001B[0;36mnsimplify\u001B[1;34m(expr, constants, tolerance, full, rational, rational_conversion)\u001B[0m\n\u001B[0;32m   1444\u001B[0m     \u001B[38;5;28;01mreturn\u001B[39;00m expr\n\u001B[0;32m   1445\u001B[0m \u001B[38;5;28;01mif\u001B[39;00m rational \u001B[38;5;129;01mor\u001B[39;00m expr\u001B[38;5;241m.\u001B[39mfree_symbols:\n\u001B[1;32m-> 1446\u001B[0m     \u001B[38;5;28;01mreturn\u001B[39;00m _real_to_rational(expr, tolerance, rational_conversion)\n\u001B[0;32m   1448\u001B[0m \u001B[38;5;66;03m# SymPy's default tolerance for Rationals is 15; other numbers may have\u001B[39;00m\n\u001B[0;32m   1449\u001B[0m \u001B[38;5;66;03m# lower tolerances set, so use them to pick the largest tolerance if None\u001B[39;00m\n\u001B[0;32m   1450\u001B[0m \u001B[38;5;66;03m# was given\u001B[39;00m\n\u001B[0;32m   1451\u001B[0m \u001B[38;5;28;01mif\u001B[39;00m tolerance \u001B[38;5;129;01mis\u001B[39;00m \u001B[38;5;28;01mNone\u001B[39;00m:\n",
      "File \u001B[1;32mD:\\anaconda3\\envs\\myenv\\Lib\\site-packages\\sympy\\simplify\\simplify.py:1565\u001B[0m, in \u001B[0;36m_real_to_rational\u001B[1;34m(expr, tolerance, rational_conversion)\u001B[0m\n\u001B[0;32m   1562\u001B[0m \u001B[38;5;28;01melif\u001B[39;00m rational_conversion \u001B[38;5;241m!=\u001B[39m \u001B[38;5;124m'\u001B[39m\u001B[38;5;124mbase10\u001B[39m\u001B[38;5;124m'\u001B[39m:\n\u001B[0;32m   1563\u001B[0m     \u001B[38;5;28;01mraise\u001B[39;00m \u001B[38;5;167;01mValueError\u001B[39;00m(\u001B[38;5;124m\"\u001B[39m\u001B[38;5;124mrational_conversion must be \u001B[39m\u001B[38;5;124m'\u001B[39m\u001B[38;5;124mbase10\u001B[39m\u001B[38;5;124m'\u001B[39m\u001B[38;5;124m or \u001B[39m\u001B[38;5;124m'\u001B[39m\u001B[38;5;124mexact\u001B[39m\u001B[38;5;124m'\u001B[39m\u001B[38;5;124m\"\u001B[39m)\n\u001B[1;32m-> 1565\u001B[0m r \u001B[38;5;241m=\u001B[39m nsimplify(fl, rational\u001B[38;5;241m=\u001B[39m\u001B[38;5;28;01mFalse\u001B[39;00m)\n\u001B[0;32m   1566\u001B[0m \u001B[38;5;66;03m# e.g. log(3).n() -> log(3) instead of a Rational\u001B[39;00m\n\u001B[0;32m   1567\u001B[0m \u001B[38;5;28;01mif\u001B[39;00m fl \u001B[38;5;129;01mand\u001B[39;00m \u001B[38;5;129;01mnot\u001B[39;00m r:\n",
      "File \u001B[1;32mD:\\anaconda3\\envs\\myenv\\Lib\\site-packages\\sympy\\simplify\\simplify.py:1504\u001B[0m, in \u001B[0;36mnsimplify\u001B[1;34m(expr, constants, tolerance, full, rational, rational_conversion)\u001B[0m\n\u001B[0;32m   1502\u001B[0m \u001B[38;5;28;01mtry\u001B[39;00m:\n\u001B[0;32m   1503\u001B[0m     \u001B[38;5;28;01mif\u001B[39;00m re:\n\u001B[1;32m-> 1504\u001B[0m         re \u001B[38;5;241m=\u001B[39m nsimplify_real(re)\n\u001B[0;32m   1505\u001B[0m     \u001B[38;5;28;01mif\u001B[39;00m im:\n\u001B[0;32m   1506\u001B[0m         im \u001B[38;5;241m=\u001B[39m nsimplify_real(im)\n",
      "File \u001B[1;32mD:\\anaconda3\\envs\\myenv\\Lib\\site-packages\\sympy\\simplify\\simplify.py:1486\u001B[0m, in \u001B[0;36mnsimplify.<locals>.nsimplify_real\u001B[1;34m(x)\u001B[0m\n\u001B[0;32m   1484\u001B[0m         \u001B[38;5;28;01mreturn\u001B[39;00m Rational(\u001B[38;5;241m-\u001B[39m\u001B[38;5;28mint\u001B[39m(rat[\u001B[38;5;241m1\u001B[39m]), \u001B[38;5;28mint\u001B[39m(rat[\u001B[38;5;241m0\u001B[39m]))\n\u001B[0;32m   1485\u001B[0m mpmath\u001B[38;5;241m.\u001B[39mmp\u001B[38;5;241m.\u001B[39mdps \u001B[38;5;241m=\u001B[39m prec\n\u001B[1;32m-> 1486\u001B[0m newexpr \u001B[38;5;241m=\u001B[39m mpmath\u001B[38;5;241m.\u001B[39midentify(xv, constants\u001B[38;5;241m=\u001B[39mconstants_dict,\n\u001B[0;32m   1487\u001B[0m     tol\u001B[38;5;241m=\u001B[39mtolerance, full\u001B[38;5;241m=\u001B[39mfull)\n\u001B[0;32m   1488\u001B[0m \u001B[38;5;28;01mif\u001B[39;00m \u001B[38;5;129;01mnot\u001B[39;00m newexpr:\n\u001B[0;32m   1489\u001B[0m     \u001B[38;5;28;01mraise\u001B[39;00m \u001B[38;5;167;01mValueError\u001B[39;00m\n",
      "File \u001B[1;32mD:\\anaconda3\\envs\\myenv\\Lib\\site-packages\\mpmath\\identification.py:801\u001B[0m, in \u001B[0;36midentify\u001B[1;34m(ctx, x, constants, tol, maxcoeff, full, verbose)\u001B[0m\n\u001B[0;32m    798\u001B[0m     s \u001B[38;5;241m=\u001B[39m pslqstring(r, constants)\n\u001B[0;32m    799\u001B[0m \u001B[38;5;66;03m# Quadratic algebraic numbers\u001B[39;00m\n\u001B[0;32m    800\u001B[0m \u001B[38;5;28;01melse\u001B[39;00m:\n\u001B[1;32m--> 801\u001B[0m     q \u001B[38;5;241m=\u001B[39m ctx\u001B[38;5;241m.\u001B[39mpslq([ctx\u001B[38;5;241m.\u001B[39mone, t, t\u001B[38;5;241m*\u001B[39m\u001B[38;5;241m*\u001B[39m\u001B[38;5;241m2\u001B[39m], tol, M)\n\u001B[0;32m    802\u001B[0m     \u001B[38;5;28;01mif\u001B[39;00m q \u001B[38;5;129;01mis\u001B[39;00m \u001B[38;5;129;01mnot\u001B[39;00m \u001B[38;5;28;01mNone\u001B[39;00m \u001B[38;5;129;01mand\u001B[39;00m \u001B[38;5;28mlen\u001B[39m(q) \u001B[38;5;241m==\u001B[39m \u001B[38;5;241m3\u001B[39m \u001B[38;5;129;01mand\u001B[39;00m q[\u001B[38;5;241m2\u001B[39m]:\n\u001B[0;32m    803\u001B[0m         aa, bb, cc \u001B[38;5;241m=\u001B[39m q\n",
      "File \u001B[1;32mD:\\anaconda3\\envs\\myenv\\Lib\\site-packages\\mpmath\\identification.py:280\u001B[0m, in \u001B[0;36mpslq\u001B[1;34m(ctx, x, tol, maxcoeff, maxsteps, verbose)\u001B[0m\n\u001B[0;32m    278\u001B[0m best_err \u001B[38;5;241m=\u001B[39m maxcoeff\u001B[38;5;241m<<\u001B[39mprec\n\u001B[0;32m    279\u001B[0m \u001B[38;5;28;01mfor\u001B[39;00m i \u001B[38;5;129;01min\u001B[39;00m xrange(\u001B[38;5;241m1\u001B[39m, n\u001B[38;5;241m+\u001B[39m\u001B[38;5;241m1\u001B[39m):\n\u001B[1;32m--> 280\u001B[0m     err \u001B[38;5;241m=\u001B[39m \u001B[38;5;28mabs\u001B[39m(y[i])\n\u001B[0;32m    281\u001B[0m     \u001B[38;5;66;03m# Maybe we are done?\u001B[39;00m\n\u001B[0;32m    282\u001B[0m     \u001B[38;5;28;01mif\u001B[39;00m err \u001B[38;5;241m<\u001B[39m tol:\n\u001B[0;32m    283\u001B[0m         \u001B[38;5;66;03m# We are done if the coefficients are acceptable\u001B[39;00m\n",
      "\u001B[1;31mKeyboardInterrupt\u001B[0m: "
     ]
    }
   ],
   "execution_count": 9
  }
 ],
 "metadata": {
  "kernelspec": {
   "display_name": "Python 3",
   "language": "python",
   "name": "python3"
  },
  "language_info": {
   "codemirror_mode": {
    "name": "ipython",
    "version": 2
   },
   "file_extension": ".py",
   "mimetype": "text/x-python",
   "name": "python",
   "nbconvert_exporter": "python",
   "pygments_lexer": "ipython2",
   "version": "2.7.6"
  }
 },
 "nbformat": 4,
 "nbformat_minor": 5
}
