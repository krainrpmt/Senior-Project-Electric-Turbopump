{
 "cells": [
  {
   "cell_type": "code",
   "id": "initial_id",
   "metadata": {
    "collapsed": true,
    "ExecuteTime": {
     "end_time": "2024-11-06T06:07:35.639458Z",
     "start_time": "2024-11-06T06:07:35.632723Z"
    }
   },
   "source": [
    "import numpy as np\n",
    "import math\n",
    "import matplotlib.pyplot as plt\n",
    "import sympy as sp"
   ],
   "outputs": [],
   "execution_count": 111
  },
  {
   "metadata": {
    "ExecuteTime": {
     "end_time": "2024-11-06T06:07:35.763201Z",
     "start_time": "2024-11-06T06:07:35.666574Z"
    }
   },
   "cell_type": "code",
   "source": [
    "def uncertainty_calc(Thrust_Percent):   \n",
    "    m_dot, P = sp.symbols(\"m_dot, P\")\n",
    "    \n",
    "    ve = 3145.7598\n",
    "    Ae = 0.1527\n",
    "    \n",
    "    Me = 4.380\n",
    "    gamma_c = 1.1173\n",
    "    gamma_e = 1.213\n",
    "    #gamma_avg = (gamma_c + gamma_e)/2\n",
    "    gamma_avg = 1.1414\n",
    "    Te = 1286.42\n",
    "    F = 3304.6615\n",
    "    c_star = 1605\n",
    "    At = 1796.285e-6\n",
    "    \n",
    "    \n",
    "    \n",
    "    m_dot_ox_norm = 0.8448\n",
    "    m_dot_prop_norm = 1.0073\n",
    "    \n",
    "    Cd = 0.8\n",
    "    rho_ox = 1573.2\n",
    "    A = m_dot_ox_norm/Cd/math.sqrt(2*rho_ox*5.4e5)\n",
    "    rho_f = 1522\n",
    "    Dpi = 95.6473e-3\n",
    "    L = 515.9178e-3\n",
    "    \n",
    "    count = 0\n",
    "    while True:\n",
    "        if count == 0:\n",
    "            r = 6.35e-05*(m_dot_ox_norm/(math.pi/4*Dpi**2))**0.5\n",
    "            m_dot_f = rho_f*math.pi*Dpi*L*r\n",
    "            m_dot_f_norm = m_dot_f\n",
    "            OF = m_dot_ox_norm/m_dot_f\n",
    "            Pe = (1+(gamma_avg-1)/2*Me**2)**(-gamma_avg/(gamma_avg-1))*m_dot*(-2.97619*OF**2 + 10.05952*OF + 1633.18571)/At\n",
    "            m_dot_prop_update = sp.nsolve(-Thrust_Percent*F + m_dot * ve + Pe * Ae, m_dot, 1.0)\n",
    "            m_dot_ox_new = abs(m_dot_prop_update - m_dot_f)\n",
    "            m_dot_ox_old = m_dot_ox_norm\n",
    "            m_dot_f_old = m_dot_f\n",
    "            Pe_norm = Pe.subs(m_dot, m_dot_prop_update)\n",
    "            count += 1\n",
    "            continue\n",
    "            \n",
    "        r = 6.35e-05*(m_dot_ox_new/(math.pi/4*Dpi**2))**0.5\n",
    "        m_dot_f = rho_f*math.pi*Dpi*L*r\n",
    "        #m_dot_prop_new = m_dot_ox_new + m_dot_f\n",
    "        OF = m_dot_ox_new/m_dot_f\n",
    "        Pe = (1+(gamma_avg-1)/2*Me**2)**(-gamma_avg/(gamma_avg-1))*m_dot*(-2.97619*OF**2 + 10.05952*OF + 1633.18571)/At\n",
    "        m_dot_prop_update = sp.nsolve(-Thrust_Percent*F + m_dot * ve + Pe * Ae, m_dot, 1.0)\n",
    "        m_dot_ox_new = abs(m_dot_prop_update - m_dot_f)\n",
    "        \n",
    "        if count != 0 and round(abs(m_dot_f - m_dot_f_old),5) == 0 and round(abs(m_dot_ox_new - m_dot_ox_old),5) == 0 and round(abs(m_dot_ox_new + m_dot_f - m_dot_prop_update),5) == 0:\n",
    "            break\n",
    "        \n",
    "        #if count != 0 and round(m_dot_f - m_dot_f_old,10) != 0 and round(m_dot_ox_new - m_dot_ox_old,10) != 0 and round(m_dot_ox_new + m_dot_f - m_dot_prop_update[0],10) != 0:\n",
    "        else:\n",
    "            m_dot_ox_old = m_dot_ox_new\n",
    "            m_dot_f_old = m_dot_f\n",
    "            count += 1\n",
    "        \n",
    "    #print(round(m_dot_ox_new + m_dot_f - m_dot_prop_update[0],10))\n",
    "    print(f\"Number of Iterations = {count}\")\n",
    "    print(f\"Oxidizer Mass Flow Rate = {m_dot_ox_new:.3f} kg/s\")\n",
    "    print(f\"Fuel Mass Flow Rate Norm = {m_dot_f_norm:.3f} kg/s\")\n",
    "    print(f\"Fuel Mass Flow Rate Now = {m_dot_f:.3f} kg/s\")\n",
    "    print(f\"Propellant Mass Flow Rate = {m_dot_prop_update:.3f} kg/s\")\n",
    "    print(f\"Propellant Mass Flow Uncertainty = {abs(m_dot_prop_norm - m_dot_prop_update):.3f} kg/s\")\n",
    "    print(f\"Current O/F = {OF:.3f}\")\n",
    "    print(f\"{Thrust_Percent*100:.0f}% Thrust = {Thrust_Percent*F:.3f} N\")\n",
    "    print(f\"Current C* = {-2.97619*OF**2 + 10.05952*OF + 1633.18571:.3f} m/s\")\n",
    "    Pe = (1+(gamma_avg-1)/2*Me**2)**(-gamma_avg/(gamma_avg-1))*m_dot_prop_update*(-2.97619*OF**2 + 10.05952*OF + 1633.18571)/At\n",
    "    print(f\"Calculated Thrust = {m_dot_prop_update * ve + Pe * Ae:.3f} N\")\n",
    "    m_dot_ox_change = abs(m_dot_ox_norm - m_dot_ox_new)\n",
    "    print(f\"Oxidizer Mass Flow Rate Uncertainty = {m_dot_ox_change:.3f} kg/s\")\n",
    "    pressure_new = sp.solve(-m_dot_ox_new + Cd * A * sp.sqrt(2*rho_ox*P),P)\n",
    "    print(f\"Pressure drop across the injector = {pressure_new[0]:.3f} Pa\")\n",
    "    pressure_change = abs(5.4e5 - pressure_new[0])/1e5\n",
    "    print(f\"Pressure Rise Uncertainty = {pressure_change:.3f} Bar\")\n",
    "    print(f\"Nominal Pe = {Pe_norm:.3f} Pa\")\n",
    "    print(f\"Pe Now = {Pe.subs(m_dot, m_dot_prop_update):.3f} Pa\")\n",
    "    \n",
    "    return A, m_dot_ox_new, m_dot_ox_change, m_dot_f, pressure_new[0], pressure_change, Thrust_Percent\n",
    "    \n",
    "[A1, _, ox1, _, Pinj1, delP1, Percent1] = uncertainty_calc(0.90)\n",
    "print('\\n')\n",
    "[A2, _, ox2, _, Pinj2, delP2, Percent2] = uncertainty_calc(0.95)\n",
    "\n",
    "#Pe is actually a function of both Pc and O/F, while both Pc and O/F also intertwine in some way, but here Pe is a function of O/F only for simplicity. To be more realistic, a 3D surface equation is needed but the difference is very minimal (like 5 Pa difference in Pe, so the change is actually negligible).\n",
    "print(f\"\\nThe following uncertainties are evaluated under the assumption of constant specific heat ratio for the small change in rocket combustion performance, due to the inaccuracy of interpolation needed to obtain the value. But the C* which represents combustion efficiency is considered a variable following the fitted function of C* vs O/F evaluated at a constant 9.0 bar calculated from CEA. This relation of C* is not perfect however, because in actuality C* is also a function of Pc having another associated set of O/F curve, however this value is only used to determine the change in Pe which turns out to be very very minimal, and the slight change in combustion chamber pressure barely affects the performance, therefore the error is negligible, in fact, the whole change in Pe can be neglected.\")\n",
    "print(f\"For {Percent1*100:.0f}% Thrust, Mass Flow Rate Uncertainty = {ox1:.3f} kg/s, Pressure Uncertainty = {delP1:.3f} bar\")\n",
    "print(f\"For {Percent2*100:.0f}% Thrust, Mass Flow Rate Uncertainty = {ox2:.3f} kg/s, Pressure Uncertainty = {delP2:.3f} bar\")\n",
    "#print(f\"\\nOxidizer Mass Flow Rate = {0.8 * A * math.sqrt(2 * 1573.2 * Pinj):.3f} kg/s\")\n",
    "\n"
   ],
   "id": "6b38a562ee8178c0",
   "outputs": [
    {
     "name": "stdout",
     "output_type": "stream",
     "text": [
      "Number of Iterations = 16\n",
      "Oxidizer Mass Flow Rate = 0.753 kg/s\n",
      "Fuel Mass Flow Rate Norm = 0.162 kg/s\n",
      "Fuel Mass Flow Rate Now = 0.153 kg/s\n",
      "Propellant Mass Flow Rate = 0.906 kg/s\n",
      "Propellant Mass Flow Uncertainty = 0.101 kg/s\n",
      "Current O/F = 4.910\n",
      "90% Thrust = 2974.195 N\n",
      "Current C* = 1610.837 m/s\n",
      "Calculated Thrust = 2974.195 N\n",
      "Oxidizer Mass Flow Rate Uncertainty = 0.092 kg/s\n",
      "Pressure drop across the injector = 429073.080 Pa\n",
      "Pressure Rise Uncertainty = 1.109 Bar\n",
      "Nominal Pe = 801.226 Pa\n",
      "Pe Now = 804.010 Pa\n",
      "\n",
      "\n",
      "Number of Iterations = 16\n",
      "Oxidizer Mass Flow Rate = 0.799 kg/s\n",
      "Fuel Mass Flow Rate Norm = 0.162 kg/s\n",
      "Fuel Mass Flow Rate Now = 0.158 kg/s\n",
      "Propellant Mass Flow Rate = 0.957 kg/s\n",
      "Propellant Mass Flow Uncertainty = 0.050 kg/s\n",
      "Current O/F = 5.057\n",
      "95% Thrust = 3139.428 N\n",
      "Current C* = 1607.952 m/s\n",
      "Calculated Thrust = 3139.428 N\n",
      "Oxidizer Mass Flow Rate Uncertainty = 0.046 kg/s\n",
      "Pressure drop across the injector = 482888.105 Pa\n",
      "Pressure Rise Uncertainty = 0.571 Bar\n",
      "Nominal Pe = 845.738 Pa\n",
      "Pe Now = 847.220 Pa\n",
      "\n",
      "The following uncertainties are evaluated under the assumption of constant specific heat ratio for the small change in rocket combustion performance, due to the inaccuracy of interpolation needed to obtain the value. But the C* which represents combustion efficiency is considered a variable following the fitted function of C* vs O/F evaluated at a constant 9.0 bar calculated from CEA. This relation of C* is not perfect however, because in actuality C* is also a function of Pc having another associated set of O/F curve, however this value is only used to determine the change in Pe which turns out to be very very minimal, and the slight change in combustion chamber pressure barely affects the performance, therefore the error is negligible, in fact, the whole change in Pe can be neglected.\n",
      "For 90% Thrust, Mass Flow Rate Uncertainty = 0.092 kg/s, Pressure Uncertainty = 1.109 bar\n",
      "For 95% Thrust, Mass Flow Rate Uncertainty = 0.046 kg/s, Pressure Uncertainty = 0.571 bar\n"
     ]
    }
   ],
   "execution_count": 112
  },
  {
   "metadata": {
    "ExecuteTime": {
     "start_time": "2024-11-06T06:07:35.768263Z"
    }
   },
   "cell_type": "code",
   "source": "",
   "id": "3bc3d0c119b3622d",
   "outputs": [],
   "execution_count": null
  }
 ],
 "metadata": {
  "kernelspec": {
   "display_name": "Python 3",
   "language": "python",
   "name": "python3"
  },
  "language_info": {
   "codemirror_mode": {
    "name": "ipython",
    "version": 2
   },
   "file_extension": ".py",
   "mimetype": "text/x-python",
   "name": "python",
   "nbconvert_exporter": "python",
   "pygments_lexer": "ipython2",
   "version": "2.7.6"
  }
 },
 "nbformat": 4,
 "nbformat_minor": 5
}
