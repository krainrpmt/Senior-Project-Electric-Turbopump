{
 "cells": [
  {
   "cell_type": "code",
   "id": "initial_id",
   "metadata": {
    "collapsed": true,
    "ExecuteTime": {
     "end_time": "2024-09-03T14:44:25.234115Z",
     "start_time": "2024-09-03T14:44:25.232002Z"
    }
   },
   "source": [
    "import numpy as np\n",
    "import sympy as symp\n",
    "import scipy as scip\n",
    "import matplotlib.pyplot as plt\n",
    "import math as math"
   ],
   "outputs": [],
   "execution_count": 269
  },
  {
   "metadata": {
    "ExecuteTime": {
     "end_time": "2024-09-03T14:44:25.251356Z",
     "start_time": "2024-09-03T14:44:25.240101Z"
    }
   },
   "cell_type": "code",
   "source": [
    "# Given constants\n",
    "Pc = 30e5  # Chamber total pressure in Pa (30 bar)\n",
    "dt = 0.0254  # Throat diameter in meters (1 inch) -- Assumed\n",
    "Tc = 2500  # Chamber total temperature in Kelvin -- Assumed\n",
    "gamma = 1.2  # Specific heat ratio -- Assumed\n",
    "R = 300  # Specific gas constant in J/(kg·K) -- Assumed (approximated from 287 to 350)\n",
    "OF = 6 # O/F Ratio\n",
    "Pe = 0 # Exhaust exit pressure in Pa (Ideal engine in vacuum = 0 Pa)\n",
    "Pa = 0 # Atmospheric pressure in Pa (Vacuum = 0)\n",
    "g0 = 9.807 # Earth's gravitational acceleration at surface\n",
    "mass_dry = 100  # in kg\n",
    "nozzle_expansion_ratio = 125\n",
    "density = 1600 # Propellant density in kg/m^3\n",
    "h1 = 200e3  # Initial orbit altitude (200 km above Earth's surface)\n",
    "h2 = 35786e3  # Geostationary orbit altitude (35,786 km above Earth's surface)\n",
    "\n",
    "dt2 = math.sqrt(nozzle_expansion_ratio*dt) # Nozzle exit diameter\n",
    "\n",
    "print(f\"Chamber pressure = {Pc*1e-6:.2f} MPa\")\n",
    "print(f\"Chamber temperature = {Tc} K\")\n",
    "print(f\"Throat diameter = {dt*1000} mm\")\n",
    "print(f\"Nozzle expansion ratio = {nozzle_expansion_ratio}\")\n",
    "\n",
    "# Step 1: Calculate Throat Area (At)\n",
    "At = math.pi * (dt / 2) ** 2  # Throat area in square meters\n",
    "Ae = nozzle_expansion_ratio*At # Nozzle exit area in square meters\n",
    "\n",
    "print(f\"Nozzle exit diameter = {dt2:.4f} m\")\n",
    "print(f\"Nozzle exit area = {Ae:.4f} m^2\")\n",
    "\n",
    "# Step 2: Calculate Effective Exhaust Velocity (ve) and Specific Impulse (ISP)\n",
    "def exit_mach_number_func(M, Ae, At, gamma):\n",
    "    return (Ae/At - (1 / M) * ((2 / (gamma + 1)) * (1 + (gamma - 1) / 2 * M**2))**((gamma + 1) / (2 * (gamma - 1))))\n",
    "Me = float(scip.optimize.fsolve(exit_mach_number_func, 5, args=(Ae, At, gamma))[0])\n",
    "#ve = math.sqrt(2*gamma*R*Tc/(gamma-1)*(1-(Pe/Pc)**((gamma-1)/gamma)))\n",
    "Te = Tc*(1+(gamma-1)/2*Me**2)**-1\n",
    "Pe = Pc*(1+(gamma-1)/2*Me**2)**(-gamma/(gamma-1))\n",
    "ve = Me*math.sqrt(gamma*R*Te)\n",
    "ISP = ve/g0\n",
    "\n",
    "print(f\"\\nExhaust mach number = {Me:.4f}\")\n",
    "print(f\"Exhaust velocity = {ve:.4f} m/s\")\n",
    "print(f\"Exhaust temperature = {Te:.4f} K\")\n",
    "print(f\"Exhaust pressure = {Pe:.4f} Pa\")\n",
    "print(f\"Specific Impulse = {ISP:.4f} s\")\n",
    "print(f\"Density Impulse = {ISP*density:.4f} kg-s/m^3\")\n",
    "\n",
    "# Step 3: Calculate the mass flow rate (dot_m)\n",
    "mass_flow_rate = (Pc * At / math.sqrt(Tc)) * math.sqrt(gamma / R) * ((2 / (gamma + 1)) ** ((gamma + 1) / (2 * (gamma - 1))))\n",
    "oxidizer_mass_flow_rate = mass_flow_rate*OF/(1+OF)\n",
    "fuel_mass_flow_rate = mass_flow_rate-oxidizer_mass_flow_rate\n",
    "\n",
    "print(f\"\\nPropellant Mass Flow Rate = {mass_flow_rate:.4f} Kg/s\")  # in kg/s\n",
    "print(f\"Fuel Mass Flow Rate = {fuel_mass_flow_rate:.4f} Kg/s\")  # in kg/s\n",
    "print(f\"Oxidizer Mass Flow Rate = {oxidizer_mass_flow_rate:.4f} Kg/s\")   # in kg/s\n",
    "\n",
    "# Step 4: Calculate Thrust (Ft)\n",
    "thrust = mass_flow_rate*ve+(Pe-Pa)*Ae\n",
    "\n",
    "print(f\"\\nThrust = {thrust:.4f} N\")\n",
    "\n",
    "# Step 5: Delta V Calculation\n",
    "R_E = 6378e3  # Earth's radius in meters\n",
    "mu = 3.985894e14  # Standard gravitational parameter for Earth in m^3/s^2\n",
    "g0 = 9.81  # Gravitational acceleration in m/s^2\n",
    "\n",
    "# Initial and final orbital radii\n",
    "r1 = R_E + h1\n",
    "r2 = R_E + h2\n",
    "\n",
    "# Semi-major axis of the transfer orbit\n",
    "a_t = (r1 + r2) / 2\n",
    "\n",
    "# Orbital velocities\n",
    "v1 = math.sqrt(mu / r1)  # Initial orbit velocity\n",
    "vp = math.sqrt((2 * mu / r1) - (mu / a_t))  # Velocity at perigee of transfer orbit\n",
    "va = math.sqrt((2 * mu / r2) - (mu / a_t))  # Velocity at apogee of transfer orbit\n",
    "v2 = math.sqrt(mu / r2)  # Final orbit velocity\n",
    "\n",
    "# Delta V for each burn\n",
    "delta_v1 = vp - v1\n",
    "delta_v2 = v2 - va\n",
    "\n",
    "# Total Delta V\n",
    "delta_v_total = delta_v1 + delta_v2\n",
    "\n",
    "# Using Tsiolkovsky's rocket equation to find propellant mass\n",
    "mass_propellant = mass_dry * (math.exp(delta_v_total / ve) - 1)\n",
    "burn_time = mass_propellant/mass_flow_rate\n",
    "\n",
    "print(f\"\\nDelta V total = {delta_v_total:.4f} m/s\")\n",
    "print(f\"Propellant mass required = {mass_propellant:.4f} kg\")\n",
    "print(f\"Total LEO wet mass = {mass_propellant+mass_dry:.4f} kg\")\n",
    "print(f\"Dry mass = {mass_propellant+mass_dry:.4f} kg\")\n",
    "print(f\"Burn time = {burn_time:.2f} s\")\n"
   ],
   "id": "8948fe9bf3ccfd91",
   "outputs": [
    {
     "name": "stdout",
     "output_type": "stream",
     "text": [
      "Chamber pressure = 3.00 MPa\n",
      "Chamber temperature = 2500 K\n",
      "Throat diameter = 25.4 mm\n",
      "Nozzle expansion ratio = 125\n",
      "Nozzle exit diameter = 1.7819 m\n",
      "Nozzle exit area = 0.0633 m^2\n",
      "\n",
      "Exhaust mach number = 5.0524\n",
      "Exhaust velocity = 2542.9732 m/s\n",
      "Exhaust temperature = 703.6909 K\n",
      "Exhaust pressure = 1492.0139 Pa\n",
      "Specific Impulse = 259.3018 s\n",
      "Density Impulse = 414882.9528 kg-s/m^3\n",
      "\n",
      "Propellant Mass Flow Rate = 1.1384 Kg/s\n",
      "Fuel Mass Flow Rate = 0.1626 Kg/s\n",
      "Oxidizer Mass Flow Rate = 0.9757 Kg/s\n",
      "\n",
      "Thrust = 2989.3152 N\n",
      "\n",
      "Delta V total = 3931.8569 m/s\n",
      "Propellant mass required = 369.3438 kg\n",
      "Total LEO wet mass = 469.3438 kg\n",
      "Dry mass = 469.3438 kg\n",
      "Burn time = 324.45 s\n"
     ]
    }
   ],
   "execution_count": 270
  },
  {
   "metadata": {
    "ExecuteTime": {
     "end_time": "2024-09-03T14:44:25.265314Z",
     "start_time": "2024-09-03T14:44:25.255261Z"
    }
   },
   "cell_type": "code",
   "source": "#Delta V Calculation\n",
   "id": "bbd179ed4d5311bc",
   "outputs": [],
   "execution_count": 271
  }
 ],
 "metadata": {
  "kernelspec": {
   "display_name": "Python 3",
   "language": "python",
   "name": "python3"
  },
  "language_info": {
   "codemirror_mode": {
    "name": "ipython",
    "version": 2
   },
   "file_extension": ".py",
   "mimetype": "text/x-python",
   "name": "python",
   "nbconvert_exporter": "python",
   "pygments_lexer": "ipython2",
   "version": "2.7.6"
  }
 },
 "nbformat": 4,
 "nbformat_minor": 5
}
