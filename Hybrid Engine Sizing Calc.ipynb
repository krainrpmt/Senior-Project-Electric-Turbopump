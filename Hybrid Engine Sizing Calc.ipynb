{
 "cells": [
  {
   "cell_type": "code",
   "id": "initial_id",
   "metadata": {
    "collapsed": true,
    "ExecuteTime": {
     "end_time": "2024-09-16T19:06:17.339474Z",
     "start_time": "2024-09-16T19:06:17.337214Z"
    }
   },
   "source": [
    ""
   ],
   "outputs": [],
   "execution_count": null
  },
  {
   "metadata": {
    "ExecuteTime": {
     "end_time": "2024-09-16T19:06:17.529484Z",
     "start_time": "2024-09-16T19:06:17.346171Z"
    }
   },
   "cell_type": "code",
   "source": [
    "import numpy as np\n",
    "import scipy as sp\n",
    "import math\n",
    "\n",
    "# Define known parameters\n",
    "# Define lower and upper bounds\n",
    "lb = [44e-3, 200e-3, 0]  # Lower bounds Dpi, Dpf, L\n",
    "ub = [45e-3, 250e-3, 2.0]  # Upper bounds Dpi, Dpf, L\n",
    "bounds = [(low, high) for low, high in zip(lb, ub)]\n",
    "#np.random.seed(100)\n",
    "\n",
    "a = 2.6676e-5\n",
    "n = 0.72493\n",
    "n2 = 0.5\n",
    "\n",
    "Gox = np.linspace(5.0, 500, 200000)\n",
    "tb = 474.72\n",
    "del_t = tb/Gox.size\n",
    "\n",
    "# Define the objective function (sum of squared residuals)\n",
    "def hybrid_equation(a2):\n",
    "    F1 = abs(np.sum(a*Gox**n*del_t)/tb - np.sum(a2*Gox**n2*del_t)/tb)*1000\n",
    "    return F1\n",
    "\n",
    "# Basin Hopping Methods: Powell , \"bounds\": bounds\n",
    "result = sp.optimize.minimize(hybrid_equation,x0=8e-5)"
   ],
   "id": "40e4d0abb94234e3",
   "outputs": [],
   "execution_count": 47
  },
  {
   "metadata": {
    "ExecuteTime": {
     "end_time": "2024-09-16T19:06:17.541535Z",
     "start_time": "2024-09-16T19:06:17.534052Z"
    }
   },
   "cell_type": "code",
   "source": [
    "a2 = result.x\n",
    "print(a2)\n",
    "print(np.sum(a*Gox**n)/Gox.size)\n",
    "print(np.sum(a2*Gox**n2)/Gox.size)"
   ],
   "id": "c9d10f6b36551e6c",
   "outputs": [
    {
     "name": "stdout",
     "output_type": "stream",
     "text": [
      "[9.39216799e-05]\n",
      "0.0014129407234646715\n",
      "0.001412828647171741\n"
     ]
    }
   ],
   "execution_count": 48
  },
  {
   "metadata": {
    "ExecuteTime": {
     "end_time": "2024-09-16T19:06:17.615777Z",
     "start_time": "2024-09-16T19:06:17.614014Z"
    }
   },
   "cell_type": "code",
   "source": "",
   "id": "33096d98eb777b73",
   "outputs": [],
   "execution_count": null
  }
 ],
 "metadata": {
  "kernelspec": {
   "display_name": "Python 3",
   "language": "python",
   "name": "python3"
  },
  "language_info": {
   "codemirror_mode": {
    "name": "ipython",
    "version": 2
   },
   "file_extension": ".py",
   "mimetype": "text/x-python",
   "name": "python",
   "nbconvert_exporter": "python",
   "pygments_lexer": "ipython2",
   "version": "2.7.6"
  }
 },
 "nbformat": 4,
 "nbformat_minor": 5
}
