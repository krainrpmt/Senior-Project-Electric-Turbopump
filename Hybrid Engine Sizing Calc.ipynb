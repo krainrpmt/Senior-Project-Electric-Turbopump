{
 "cells": [
  {
   "cell_type": "code",
   "id": "initial_id",
   "metadata": {
    "collapsed": true,
    "ExecuteTime": {
     "end_time": "2024-10-26T12:33:17.690171Z",
     "start_time": "2024-10-26T12:33:17.651517Z"
    }
   },
   "source": [
    ""
   ],
   "outputs": [],
   "execution_count": null
  },
  {
   "metadata": {
    "ExecuteTime": {
     "end_time": "2024-10-26T12:33:18.146205Z",
     "start_time": "2024-10-26T12:33:17.785011Z"
    }
   },
   "cell_type": "code",
   "source": [
    "import numpy as np\n",
    "import scipy as sp\n",
    "import math\n",
    "\n",
    "a = 2.6676e-5\n",
    "n = 0.72493\n",
    "n2 = 0.5\n",
    "\n",
    "mIN = 8.1515\n",
    "mAX = 93.4326\n",
    "Gox = np.linspace(mIN, mAX, 200000)\n",
    "#tb = 471\n",
    "tb = mAX-mIN\n",
    "del_t = tb/Gox.size\n",
    "\n",
    "# Define the objective function (sum of squared residuals)\n",
    "def hybrid_equation(a2):\n",
    "    F1 = abs(np.sum(a*Gox**n*del_t)/tb- np.sum(a2*Gox**n2*del_t)/tb)*1000\n",
    "    return F1\n",
    "\n",
    "# Basin Hopping Methods: Powell , \"bounds\": bounds\n",
    "result = sp.optimize.minimize(hybrid_equation,x0=8e-5)"
   ],
   "id": "40e4d0abb94234e3",
   "outputs": [],
   "execution_count": 91
  },
  {
   "metadata": {
    "ExecuteTime": {
     "end_time": "2024-10-26T12:33:18.214220Z",
     "start_time": "2024-10-26T12:33:18.195305Z"
    }
   },
   "cell_type": "code",
   "source": "",
   "id": "63728ce9db25e303",
   "outputs": [
    {
     "data": {
      "text/plain": [
       "8.5723"
      ]
     },
     "execution_count": 92,
     "metadata": {},
     "output_type": "execute_result"
    }
   ],
   "execution_count": 92
  },
  {
   "metadata": {
    "ExecuteTime": {
     "end_time": "2024-10-26T12:33:18.347107Z",
     "start_time": "2024-10-26T12:33:18.331741Z"
    }
   },
   "cell_type": "code",
   "source": [
    "a2 = result.x\n",
    "print(f\"average regression rate = {(np.sum(a2*Gox**n2*del_t)/tb)*1000:.2f} mm/s\")\n",
    "print(a2)\n",
    "print(np.sum(a*Gox**n)/Gox.size)\n",
    "print(np.sum(a2*Gox**n2)/Gox.size)"
   ],
   "id": "c9d10f6b36551e6c",
   "outputs": [
    {
     "name": "stdout",
     "output_type": "stream",
     "text": [
      "average regression rate = 0.45 mm/s\n",
      "[6.50786908e-05]\n",
      "0.000447665453507697\n",
      "0.0004476142080740326\n"
     ]
    }
   ],
   "execution_count": 93
  },
  {
   "metadata": {
    "ExecuteTime": {
     "end_time": "2024-10-26T12:33:18.458974Z",
     "start_time": "2024-10-26T12:33:18.455781Z"
    }
   },
   "cell_type": "code",
   "source": "",
   "id": "33096d98eb777b73",
   "outputs": [],
   "execution_count": null
  }
 ],
 "metadata": {
  "kernelspec": {
   "display_name": "Python 3",
   "language": "python",
   "name": "python3"
  },
  "language_info": {
   "codemirror_mode": {
    "name": "ipython",
    "version": 2
   },
   "file_extension": ".py",
   "mimetype": "text/x-python",
   "name": "python",
   "nbconvert_exporter": "python",
   "pygments_lexer": "ipython2",
   "version": "2.7.6"
  }
 },
 "nbformat": 4,
 "nbformat_minor": 5
}
