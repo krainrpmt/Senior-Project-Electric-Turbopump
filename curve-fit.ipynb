{
 "cells": [
  {
   "cell_type": "code",
   "id": "initial_id",
   "metadata": {
    "collapsed": true,
    "ExecuteTime": {
     "end_time": "2024-09-11T08:31:08.467108Z",
     "start_time": "2024-09-11T08:31:08.460191Z"
    }
   },
   "source": [
    "import math\n",
    "import numpy as np\n",
    "import matplotlib.pyplot as plt\n",
    "import pandas as pd\n",
    "import scipy"
   ],
   "outputs": [],
   "execution_count": 77
  },
  {
   "metadata": {
    "ExecuteTime": {
     "end_time": "2024-09-11T08:31:08.595734Z",
     "start_time": "2024-09-11T08:31:08.482031Z"
    }
   },
   "cell_type": "code",
   "source": [
    "# Load the CSV file into a DataFrame\n",
    "data = pd.read_csv('theta_n.csv', header=None, names=['x', 'y'])\n",
    "\n",
    "# Extract x and y values\n",
    "x_theta_n = data['x'].tolist()\n",
    "y_theta_n = data['y'].tolist()\n",
    "\n",
    "data2 = pd.read_csv('theta_e.csv', header=None, names=['x1', 'y1'])\n",
    "x_theta_e = data2['x1'].tolist()\n",
    "y_theta_e = data2['y1'].tolist()\n",
    "\n",
    "def func_powerlaw(x, m, c, c0):\n",
    "    return c0 + x**m * c\n",
    "\n",
    "def func_lnlaw(x, c, a, d):\n",
    "    return a*np.log(x+c) + d\n",
    "#p0 = np.asarray([1,1e5,-2]) \n",
    "#p0 = np.asarray([1,1e5,-2]) \n",
    "start_ratio = 1.9\n",
    "popt, pcov = scipy.optimize.curve_fit(func_powerlaw, x_theta_n[int(len(x_theta_n)/start_ratio):], y_theta_n[int(len(y_theta_n)/start_ratio):], maxfev = 100000)\n",
    "popt2, pcov2 = scipy.optimize.curve_fit(func_lnlaw, x_theta_n[int(len(x_theta_n)/start_ratio):], y_theta_n[int(len(y_theta_n)/start_ratio):], maxfev = 100000)\n",
    "# Print the extracted x and y values\n",
    "#, xp, func_powerlaw(xp, *popt), '--'\n",
    "xp = np.linspace(5, 200, 100)\n",
    "plt.plot(x_theta_n, y_theta_n, '.', xp, func_lnlaw(xp, *popt2))\n",
    "\n",
    "start_ratio = 1.8\n",
    "popt3, pcov3 = scipy.optimize.curve_fit(func_lnlaw, x_theta_e[int(len(x_theta_e)/start_ratio):], y_theta_e[int(len(y_theta_e)/start_ratio):], maxfev = 100000)\n",
    "popt4, pcov4 = scipy.optimize.curve_fit(func_powerlaw, x_theta_e[int(len(x_theta_e)/start_ratio):], y_theta_e[int(len(y_theta_e)/start_ratio):], maxfev = 100000)\n",
    "plt.plot(x_theta_e, y_theta_e, '.', xp, func_lnlaw(xp, *popt3))\n",
    "\n",
    "\n",
    "\n",
    "plt.xlim(0,200)\n",
    "plt.ylim(0,40)\n",
    "plt.xticks(range(0,250,50))\n",
    "plt.yticks(range(0,45,5))\n",
    "plt.grid(True)\n",
    "plt.show()\n",
    "\n",
    "print(func_lnlaw(140, *popt2))\n",
    "print(func_powerlaw(140, *popt))\n",
    "#print(*popt2)\n",
    "print(func_lnlaw(140, *popt3))\n",
    "print(func_powerlaw(140, *popt4))\n",
    "\n",
    "print(f\"theta_n = {math.floor(func_lnlaw(140, *popt2))} deg\")\n",
    "print(f\"theta_e = {math.ceil(func_lnlaw(140, *popt3))} deg\")"
   ],
   "id": "8f6433a6a880bf8c",
   "outputs": [
    {
     "name": "stderr",
     "output_type": "stream",
     "text": [
      "/var/folders/j3/dr9c4mcx23gcdm0215yvb0h00000gn/T/ipykernel_6484/1902957474.py:16: RuntimeWarning: invalid value encountered in log\n",
      "  return a*np.log(x+c) + d\n"
     ]
    },
    {
     "data": {
      "text/plain": [
       "<Figure size 640x480 with 1 Axes>"
      ],
      "image/png": "[encoded data removed]"
     },
     "metadata": {},
     "output_type": "display_data"
    },
    {
     "name": "stdout",
     "output_type": "stream",
     "text": [
      "35.084267528185336\n",
      "35.8796657678231\n",
      "4.785101069481519\n",
      "4.758115282611016\n",
      "theta_n = 35 deg\n",
      "theta_e = 5 deg\n"
     ]
    }
   ],
   "execution_count": 78
  },
  {
   "metadata": {
    "ExecuteTime": {
     "end_time": "2024-09-11T08:31:08.728556Z",
     "start_time": "2024-09-11T08:31:08.726685Z"
    }
   },
   "cell_type": "code",
   "source": "",
   "id": "a5f29313e4cb6076",
   "outputs": [],
   "execution_count": null
  }
 ],
 "metadata": {
  "kernelspec": {
   "display_name": "Python 3",
   "language": "python",
   "name": "python3"
  },
  "language_info": {
   "codemirror_mode": {
    "name": "ipython",
    "version": 2
   },
   "file_extension": ".py",
   "mimetype": "text/x-python",
   "name": "python",
   "nbconvert_exporter": "python",
   "pygments_lexer": "ipython2",
   "version": "2.7.6"
  }
 },
 "nbformat": 4,
 "nbformat_minor": 5
}
