{
 "cells": [
  {
   "cell_type": "code",
   "id": "initial_id",
   "metadata": {
    "collapsed": true,
    "ExecuteTime": {
     "end_time": "2025-01-19T19:48:49.021513Z",
     "start_time": "2025-01-19T19:48:49.014873Z"
    }
   },
   "source": [
    "#8 Parameters\n",
    "import itertools\n",
    "import random\n",
    "import csv\n",
    "from random import sample\n",
    "\n",
    "import numpy as np\n",
    "import math\n",
    "\n",
    "#Number of Samples\n",
    "num_samples = 800\n",
    "\n",
    "# Example lists of values for each parameter (replace with your actual values)\n",
    "param_one = np.linspace(15,22,3) #P52 - Suction Diameter\n",
    "param_two = np.linspace(2,3,3) #P53 - Outlet Width\n",
    "param_three = np.linspace(6,9,3) #P55 - Axial Extension\n",
    "param_four = [5,6,7] #P56 - Number of Blades\n",
    "param_five = np.linspace(10,22,3) #P57 - Inlet Angle\n",
    "param_six = np.linspace(15,45,3) #P58 - Outlet Angle\n",
    "param_seven = [3] #P59 - Hub-Axis Ratio\n",
    "param_eight = [0.2352] #P119 - Leading Edge Hub Rel Pos\n",
    "param_nine = [0.1586] #P120 - Leading Edge Shroud Rel Pos\n",
    "\n",
    "# Generate all possible combinations of parameters\n",
    "param_combinations = list(itertools.product(param_one, param_two, param_three, param_four, param_five, param_six, param_seven, param_eight, param_nine))\n",
    "\n",
    "print(f\"Total of {len(param_combinations)} unfiltered cases\")\n",
    "\n",
    "# Apply filtering condition: param_six >= param_five\n",
    "filtered_combinations = [combination for combination in param_combinations if combination[5] >= combination[4]]\n",
    "\n",
    "print(f\"Total of {len(filtered_combinations)} filtered cases\")\n",
    "\n",
    "# Create a master dictionary\n",
    "master_dict = {i + 1: list(combination) for i, combination in enumerate(param_combinations)}\n",
    "\n",
    "if len(filtered_combinations) < num_samples:\n",
    "    print(\"Number of samples exceeds the available filtered combinations. Writing all filtered cases to the CSV file.\")\n",
    "    sampled_combinations = filtered_combinations\n",
    "else:\n",
    "    sampled_combinations = random.sample(list(master_dict.values()), num_samples)\n",
    "\n",
    "# Write the sampled combinations to a .csv file\n",
    "output_file = '567_Cases_First_Run.csv'\n",
    "header = [\"P52 - Suction Diameter\", \"P53 - Outlet Width\", \"P55 - Axial Extension\", \"P56 - Number of Blades\", \"P57 - Inlet Angle\", \"P58 - Outlet Angle\", \"P59 - Hub Axis Ratio\", \"P119 - Leading Edge Hub Rel Pos\", \"P120 - Leading Edge Shroud Rel Pos\"]  # Placeholder column names\n",
    "\n",
    "with open(output_file, mode='w', newline='') as file:\n",
    "    writer = csv.writer(file)\n",
    "    writer.writerow(header)  # Write the header\n",
    "    writer.writerows(sampled_combinations)  # Write the sampled combinations\n",
    "\n",
    "print(f\"{output_file} has been created with {len(sampled_combinations)} sampled combinations.\")\n",
    "\n",
    "#print(sampled_combinations)\n"
   ],
   "outputs": [
    {
     "name": "stdout",
     "output_type": "stream",
     "text": [
      "Total of 729 unfiltered cases\n",
      "Total of 567 filtered cases\n",
      "Number of samples exceeds the available filtered combinations. Writing all filtered cases to the CSV file.\n",
      "567_Cases_First_Run.csv has been created with 567 sampled combinations.\n"
     ]
    }
   ],
   "execution_count": 12
  },
  {
   "metadata": {
    "ExecuteTime": {
     "end_time": "2025-01-19T14:05:09.353421Z",
     "start_time": "2025-01-19T14:05:09.350884Z"
    }
   },
   "cell_type": "code",
   "source": "",
   "id": "2633a1d5963c9270",
   "outputs": [],
   "execution_count": null
  },
  {
   "metadata": {},
   "cell_type": "code",
   "outputs": [],
   "execution_count": null,
   "source": "",
   "id": "487b41b7a25402d5"
  }
 ],
 "metadata": {
  "kernelspec": {
   "display_name": "Python 3",
   "language": "python",
   "name": "python3"
  },
  "language_info": {
   "codemirror_mode": {
    "name": "ipython",
    "version": 2
   },
   "file_extension": ".py",
   "mimetype": "text/x-python",
   "name": "python",
   "nbconvert_exporter": "python",
   "pygments_lexer": "ipython2",
   "version": "2.7.6"
  }
 },
 "nbformat": 4,
 "nbformat_minor": 5
}
