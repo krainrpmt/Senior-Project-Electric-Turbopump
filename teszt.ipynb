{
 "cells": [
  {
   "cell_type": "code",
   "id": "initial_id",
   "metadata": {
    "collapsed": true,
    "ExecuteTime": {
     "end_time": "2024-09-24T09:14:42.929198Z",
     "start_time": "2024-09-24T09:14:42.926195Z"
    }
   },
   "source": [
    "x = {'A':[],\n",
    "     'B':[]}\n",
    "\n",
    "x['A'].append(3)\n",
    "x['A'].append(5)\n",
    "\n",
    "print(x['A'])\n",
    "print(x.get('A'))"
   ],
   "outputs": [
    {
     "name": "stdout",
     "output_type": "stream",
     "text": [
      "[3, 5]\n",
      "[3, 5]\n"
     ]
    }
   ],
   "execution_count": 5
  }
 ],
 "metadata": {
  "kernelspec": {
   "display_name": "Python 3",
   "language": "python",
   "name": "python3"
  },
  "language_info": {
   "codemirror_mode": {
    "name": "ipython",
    "version": 2
   },
   "file_extension": ".py",
   "mimetype": "text/x-python",
   "name": "python",
   "nbconvert_exporter": "python",
   "pygments_lexer": "ipython2",
   "version": "2.7.6"
  }
 },
 "nbformat": 4,
 "nbformat_minor": 5
}
