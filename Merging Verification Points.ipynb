{
 "cells": [
  {
   "cell_type": "code",
   "id": "initial_id",
   "metadata": {
    "collapsed": true,
    "ExecuteTime": {
     "end_time": "2025-02-06T14:47:59.040484Z",
     "start_time": "2025-02-06T14:47:59.032200Z"
    }
   },
   "source": [
    "import pandas as pd\n",
    "\n",
    "# Read both CSV files without headers.\n",
    "df6 = pd.read_csv('14250 RPM Design Points.csv', header=None)\n",
    "df8 = pd.read_csv('880DesignPointsResults.csv', header=None)\n",
    "\n",
    "# Define the key columns (the first 6 columns) using their integer indices.\n",
    "key_cols = [0, 1, 2, 3, 4, 5]\n",
    "\n",
    "# Perform a left merge so that every row from df6 is kept.\n",
    "# The merge uses the 6 common columns.\n",
    "merged = pd.merge(df6, df8, how='left', on=key_cols)\n",
    "\n",
    "# For rows that did not find a match, the extra two columns (6 and 7) will be NaN.\n",
    "# Replace NaN with an empty string.\n",
    "merged[[6, 7]] = merged[[6, 7]].fillna('')\n",
    "\n",
    "# Save the merged dataframe to a new CSV without headers and without the index.\n",
    "merged.to_csv('14250 RPM RAW.csv', header=False, index=False)\n",
    "\n",
    "print(\"Merging complete! Output saved to 'merged.csv'.\")"
   ],
   "outputs": [
    {
     "name": "stdout",
     "output_type": "stream",
     "text": [
      "Merging complete! Output saved to 'merged.csv'.\n"
     ]
    },
    {
     "name": "stderr",
     "output_type": "stream",
     "text": [
      "C:\\Users\\Krai\\AppData\\Local\\Temp\\ipykernel_73868\\2919865677.py:12: UserWarning: You are merging on int and float columns where the float values are not equal to their int representation.\n",
      "  merged = pd.merge(df6, df8, how='left', on=key_cols)\n"
     ]
    }
   ],
   "execution_count": 3
  },
  {
   "metadata": {},
   "cell_type": "code",
   "outputs": [],
   "execution_count": null,
   "source": "",
   "id": "7fca108cf6ceca44"
  }
 ],
 "metadata": {
  "kernelspec": {
   "display_name": "Python 3",
   "language": "python",
   "name": "python3"
  },
  "language_info": {
   "codemirror_mode": {
    "name": "ipython",
    "version": 2
   },
   "file_extension": ".py",
   "mimetype": "text/x-python",
   "name": "python",
   "nbconvert_exporter": "python",
   "pygments_lexer": "ipython2",
   "version": "2.7.6"
  }
 },
 "nbformat": 4,
 "nbformat_minor": 5
}
