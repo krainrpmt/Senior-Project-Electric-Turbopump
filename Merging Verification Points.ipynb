{
 "cells": [
  {
   "cell_type": "code",
   "id": "initial_id",
   "metadata": {
    "collapsed": true,
    "ExecuteTime": {
     "end_time": "2025-02-03T08:41:58.264324Z",
     "start_time": "2025-02-03T08:41:58.173800Z"
    }
   },
   "source": [
    "import pandas as pd\n",
    "\n",
    "# Read both CSV files without headers.\n",
    "df6 = pd.read_csv('Additional Verification Point 02.csv', header=None)\n",
    "df8 = pd.read_csv('150 OSF Filled With Results.csv', header=None)\n",
    "\n",
    "# Define the key columns (the first 6 columns) using their integer indices.\n",
    "key_cols = [0, 1, 2, 3, 4, 5]\n",
    "\n",
    "# Perform a left merge so that every row from df6 is kept.\n",
    "# The merge uses the 6 common columns.\n",
    "merged = pd.merge(df6, df8, how='left', on=key_cols)\n",
    "\n",
    "# For rows that did not find a match, the extra two columns (6 and 7) will be NaN.\n",
    "# Replace NaN with an empty string.\n",
    "merged[[6, 7]] = merged[[6, 7]].fillna('')\n",
    "\n",
    "# Save the merged dataframe to a new CSV without headers and without the index.\n",
    "merged.to_csv('merged_2.csv', header=False, index=False)\n",
    "\n",
    "print(\"Merging complete! Output saved to 'merged.csv'.\")"
   ],
   "outputs": [
    {
     "name": "stdout",
     "output_type": "stream",
     "text": [
      "Merging complete! Output saved to 'merged.csv'.\n"
     ]
    }
   ],
   "execution_count": 2
  }
 ],
 "metadata": {
  "kernelspec": {
   "display_name": "Python 3",
   "language": "python",
   "name": "python3"
  },
  "language_info": {
   "codemirror_mode": {
    "name": "ipython",
    "version": 2
   },
   "file_extension": ".py",
   "mimetype": "text/x-python",
   "name": "python",
   "nbconvert_exporter": "python",
   "pygments_lexer": "ipython2",
   "version": "2.7.6"
  }
 },
 "nbformat": 4,
 "nbformat_minor": 5
}
