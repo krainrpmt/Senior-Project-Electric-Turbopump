{
 "cells": [
  {
   "cell_type": "code",
   "execution_count": null,
   "id": "initial_id",
   "metadata": {
    "collapsed": true
   },
   "outputs": [],
   "source": [
    "import pandas as pd\n",
    "\n",
    "# Read both CSV files without headers.\n",
    "df6 = pd.read_csv('Verification Points Design Parameters.csv', header=None)\n",
    "df8 = pd.read_csv('Original RAW Data.csv', header=None)\n",
    "\n",
    "# Define the key columns (the first 6 columns) using their integer indices.\n",
    "key_cols = [0, 1, 2, 3, 4, 5]\n",
    "\n",
    "# Perform a left merge so that every row from df6 is kept.\n",
    "# The merge uses the 6 common columns.\n",
    "merged = pd.merge(df6, df8, how='left', on=key_cols)\n",
    "\n",
    "# For rows that did not find a match, the extra two columns (6 and 7) will be NaN.\n",
    "# Replace NaN with an empty string.\n",
    "merged[[6, 7]] = merged[[6, 7]].fillna('')\n",
    "\n",
    "# Save the merged dataframe to a new CSV without headers and without the index.\n",
    "merged.to_csv('merged.csv', header=False, index=False)\n",
    "\n",
    "print(\"Merging complete! Output saved to 'merged.csv'.\")"
   ]
  }
 ],
 "metadata": {
  "kernelspec": {
   "display_name": "Python 3",
   "language": "python",
   "name": "python3"
  },
  "language_info": {
   "codemirror_mode": {
    "name": "ipython",
    "version": 2
   },
   "file_extension": ".py",
   "mimetype": "text/x-python",
   "name": "python",
   "nbconvert_exporter": "python",
   "pygments_lexer": "ipython2",
   "version": "2.7.6"
  }
 },
 "nbformat": 4,
 "nbformat_minor": 5
}
