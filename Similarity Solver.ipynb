{
 "cells": [
  {
   "cell_type": "code",
   "id": "initial_id",
   "metadata": {
    "collapsed": true,
    "ExecuteTime": {
     "end_time": "2024-09-01T18:21:45.275062Z",
     "start_time": "2024-09-01T18:21:45.266819Z"
    }
   },
   "source": [
    "import numpy as np\n",
    "from scipy.optimize import minimize\n",
    "\n",
    "# Define known parameters\n",
    "rho1 = 1000; mu1 = 1e-3; N1 = 28000; D1 = 51e-3; Q1 = 0.8; H1 = 120\n",
    "rho2 = 1600; mu2 = 1.6e-3\n",
    "g = 9.81  # Acceleration due to gravity in m/s^2\n",
    "\n",
    "# Initial guesses for unknowns\n",
    "x0 = np.array([5000, 60e-3, 0.3, 20])\n",
    "\n",
    "# Define lower and upper bounds\n",
    "lb = [2500, 40e-3, 0.2, 0]  # Lower bounds\n",
    "ub = [30000, 100e-3, 0.8, 30]  # Upper bounds\n",
    "bounds = [(low, high) for low, high in zip(lb, ub)]\n",
    "\n",
    "# Define the objective function (sum of squared residuals)\n",
    "def objective_function(x):\n",
    "    N2, D2, Q2, H2 = x\n",
    "\n",
    "    # Specific speed equation residual\n",
    "    F1 = (N1 * np.sqrt(Q1) / (g * H1)**(3/4)) - (N2 * np.sqrt(Q2) / (g * H2)**(3/4))\n",
    "    \n",
    "    # Flow coefficient equation residual\n",
    "    F2 = (Q1 / (N1 * D1**3)) - (Q2 / (N2 * D2**3))\n",
    "    \n",
    "    # Head coefficient equation residual\n",
    "    F3 = (g * H1 / (N1**2 * D1**2)) - (g * H2 / (N2**2 * D2**2))\n",
    "    \n",
    "    # Reynolds number equation residual\n",
    "    F4 = (rho1 * N1 * D1**2 / mu1) - (rho2 * N2 * D2**2 / mu2)\n",
    "    \n",
    "    # Sum of squared residuals\n",
    "    return F1**2 + F2**2 + F3**2 + F4**2\n",
    "\n",
    "# Perform optimization using 'SLSQP' (Sequential Least Squares Programming)\n",
    "result = minimize(objective_function, x0, bounds=bounds, method='SLSQP', options={'disp': True, 'maxiter': 2000, 'ftol': 1e-16})\n",
    "\n",
    "# Display the solution and residuals\n",
    "print('Solution:')\n",
    "print(result.x)\n",
    "print('Objective function value:')\n",
    "print(result.fun)\n"
   ],
   "outputs": [
    {
     "name": "stdout",
     "output_type": "stream",
     "text": [
      "Inequality constraints incompatible    (Exit mode 4)\n",
      "            Current function value: 3006109584005236.5\n",
      "            Iterations: 1\n",
      "            Function evaluations: 5\n",
      "            Gradient evaluations: 1\n",
      "Solution:\n",
      "[5.e+03 6.e-02 3.e-01 2.e+01]\n",
      "Objective function value:\n",
      "3006109584005236.5\n"
     ]
    }
   ],
   "execution_count": 5
  }
 ],
 "metadata": {
  "kernelspec": {
   "display_name": "Python 3",
   "language": "python",
   "name": "python3"
  },
  "language_info": {
   "codemirror_mode": {
    "name": "ipython",
    "version": 2
   },
   "file_extension": ".py",
   "mimetype": "text/x-python",
   "name": "python",
   "nbconvert_exporter": "python",
   "pygments_lexer": "ipython2",
   "version": "2.7.6"
  }
 },
 "nbformat": 4,
 "nbformat_minor": 5
}
